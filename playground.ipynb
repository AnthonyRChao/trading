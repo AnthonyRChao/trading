{
 "cells": [
  {
   "cell_type": "markdown",
   "id": "f4940818",
   "metadata": {},
   "source": [
    "# Let's play with Polygon's API"
   ]
  },
  {
   "cell_type": "code",
   "execution_count": 2,
   "id": "513e3445",
   "metadata": {},
   "outputs": [],
   "source": [
    "import requests"
   ]
  },
  {
   "cell_type": "markdown",
   "id": "24af6006",
   "metadata": {},
   "source": [
    "## Aggregates (Bars)\n",
    "`GET /v2/aggs/ticker/{stocksTicker}/range/{multiplier}/{timespan}/{from}/{to}`\n",
    "https://polygon.io/docs/stocks/get_v2_aggs_ticker__stocksticker__range__multiplier___timespan___from___to"
   ]
  },
  {
   "cell_type": "code",
   "execution_count": 18,
   "id": "9244f4fd",
   "metadata": {},
   "outputs": [
    {
     "data": {
      "text/plain": [
       "{'ticker': 'AAPL',\n",
       " 'queryCount': 1,\n",
       " 'resultsCount': 1,\n",
       " 'adjusted': True,\n",
       " 'results': [{'v': 46240500.0,\n",
       "   'vw': 170.0696,\n",
       "   'o': 171.19,\n",
       "   'c': 170.03,\n",
       "   'h': 171.25,\n",
       "   'l': 169.475,\n",
       "   't': 1711944000000,\n",
       "   'n': 676830}],\n",
       " 'status': 'OK',\n",
       " 'request_id': 'e162008c9fbad25d6354da7dfb8ccce1',\n",
       " 'count': 1}"
      ]
     },
     "execution_count": 18,
     "metadata": {},
     "output_type": "execute_result"
    }
   ],
   "source": [
    "apiKey = '6_CBgIB7paC3thxAFr54GteQobByjcIy' \n",
    "stocksTicker = 'AAPL'\n",
    "multiplier = 1\n",
    "timespan = 'day'\n",
    "start_date = '2024-04-01'\n",
    "end_date = '2024-04-01'\n",
    "\n",
    "res = requests.get(\n",
    "    f'https://api.polygon.io/v2/aggs/ticker/{stocksTicker}/range/{multiplier}/{timespan}/{start_date}/{end_date}?apiKey={apiKey}'\n",
    ")\n",
    "\n",
    "res.json()"
   ]
  },
  {
   "cell_type": "markdown",
   "id": "78036212",
   "metadata": {},
   "source": [
    "## Get the simple moving average (SMA) for a ticker symbol over a given time range.\n",
    "\n",
    "`GET /v1/indicators/sma/{stockTicker}`\n",
    "https://polygon.io/docs/stocks/get_v1_indicators_sma__stockticker"
   ]
  },
  {
   "cell_type": "code",
   "execution_count": 20,
   "id": "7cd14151",
   "metadata": {},
   "outputs": [
    {
     "data": {
      "text/plain": [
       "{'results': {'underlying': {'url': 'https://api.polygon.io/v2/aggs/ticker/AAPL/range/1/day/1063281600000/1712273650026?limit=235&sort=desc'},\n",
       "  'values': [{'timestamp': 1712116800000, 'value': 179.96800000000002},\n",
       "   {'timestamp': 1712030400000, 'value': 180.45280000000002},\n",
       "   {'timestamp': 1711944000000, 'value': 180.90720000000002},\n",
       "   {'timestamp': 1711598400000, 'value': 181.27919999999997},\n",
       "   {'timestamp': 1711512000000, 'value': 181.5032},\n",
       "   {'timestamp': 1711425600000, 'value': 181.7096},\n",
       "   {'timestamp': 1711339200000, 'value': 182.0338},\n",
       "   {'timestamp': 1711080000000, 'value': 182.3286},\n",
       "   {'timestamp': 1710993600000, 'value': 182.6068},\n",
       "   {'timestamp': 1710907200000, 'value': 182.88219999999998}]},\n",
       " 'status': 'OK',\n",
       " 'request_id': '139eb3fe73167e79b6038de3a19ee66d',\n",
       " 'next_url': 'https://api.polygon.io/v1/indicators/sma/AAPL?cursor=YWRqdXN0ZWQ9dHJ1ZSZhcD0lN0IlMjJ2JTIyJTNBMCUyQyUyMm8lMjIlM0EwJTJDJTIyYyUyMiUzQTE3Ni4wOCUyQyUyMmglMjIlM0EwJTJDJTIybCUyMiUzQTAlMkMlMjJ0JTIyJTNBMTcxMDgyMDgwMDAwMCU3RCZhcz0mZXhwYW5kX3VuZGVybHlpbmc9ZmFsc2UmbGltaXQ9MTAmb3JkZXI9ZGVzYyZzZXJpZXNfdHlwZT1jbG9zZSZ0aW1lc3Bhbj1kYXkmdGltZXN0YW1wLmx0PTE3MTA5MDcyMDAwMDAmd2luZG93PTUw'}"
      ]
     },
     "execution_count": 20,
     "metadata": {},
     "output_type": "execute_result"
    }
   ],
   "source": [
    "res = requests.get(\n",
    "    'https://api.polygon.io/v1/indicators/sma/AAPL?timespan=day&adjusted=true&window=50&series_type=close&order=desc&apiKey=6_CBgIB7paC3thxAFr54GteQobByjcIy'\n",
    ")\n",
    "\n",
    "res.json()"
   ]
  },
  {
   "cell_type": "markdown",
   "id": "43f659c7",
   "metadata": {},
   "source": [
    "# Now check out backtesting.py"
   ]
  },
  {
   "cell_type": "code",
   "execution_count": 23,
   "id": "44821012",
   "metadata": {},
   "outputs": [
    {
     "name": "stdout",
     "output_type": "stream",
     "text": [
      "\u001b[33mDEPRECATION: Configuring installation scheme with distutils config files is deprecated and will no longer work in the near future. If you are using a Homebrew or Linuxbrew Python, please see discussion at https://github.com/Homebrew/homebrew-core/issues/76621\u001b[0m\u001b[33m\n",
      "\u001b[0mRequirement already satisfied: backtesting in /opt/homebrew/lib/python3.9/site-packages (0.3.3)\n",
      "Requirement already satisfied: bokeh>=1.4.0 in /opt/homebrew/lib/python3.9/site-packages (from backtesting) (3.4.0)\n",
      "Requirement already satisfied: numpy>=1.17.0 in /opt/homebrew/lib/python3.9/site-packages (from backtesting) (1.23.1)\n",
      "Requirement already satisfied: pandas!=0.25.0,>=0.25.0 in /opt/homebrew/lib/python3.9/site-packages (from backtesting) (1.4.3)\n",
      "Requirement already satisfied: pillow>=7.1.0 in /opt/homebrew/lib/python3.9/site-packages (from bokeh>=1.4.0->backtesting) (9.2.0)\n",
      "Requirement already satisfied: contourpy>=1.2 in /opt/homebrew/lib/python3.9/site-packages (from bokeh>=1.4.0->backtesting) (1.2.0)\n",
      "Requirement already satisfied: tornado>=6.2 in /opt/homebrew/lib/python3.9/site-packages (from bokeh>=1.4.0->backtesting) (6.2)\n",
      "Requirement already satisfied: packaging>=16.8 in /opt/homebrew/lib/python3.9/site-packages (from bokeh>=1.4.0->backtesting) (24.0)\n",
      "Requirement already satisfied: PyYAML>=3.10 in /opt/homebrew/lib/python3.9/site-packages (from bokeh>=1.4.0->backtesting) (6.0.1)\n",
      "Requirement already satisfied: xyzservices>=2021.09.1 in /opt/homebrew/lib/python3.9/site-packages (from bokeh>=1.4.0->backtesting) (2023.10.1)\n",
      "Requirement already satisfied: Jinja2>=2.9 in /opt/homebrew/lib/python3.9/site-packages (from bokeh>=1.4.0->backtesting) (3.1.2)\n",
      "Requirement already satisfied: python-dateutil>=2.8.1 in /opt/homebrew/lib/python3.9/site-packages (from pandas!=0.25.0,>=0.25.0->backtesting) (2.8.2)\n",
      "Requirement already satisfied: pytz>=2020.1 in /opt/homebrew/lib/python3.9/site-packages (from pandas!=0.25.0,>=0.25.0->backtesting) (2022.1)\n",
      "Requirement already satisfied: MarkupSafe>=2.0 in /opt/homebrew/lib/python3.9/site-packages (from Jinja2>=2.9->bokeh>=1.4.0->backtesting) (2.1.1)\n",
      "Requirement already satisfied: six>=1.5 in /opt/homebrew/lib/python3.9/site-packages (from python-dateutil>=2.8.1->pandas!=0.25.0,>=0.25.0->backtesting) (1.16.0)\n",
      "\u001b[33mDEPRECATION: Configuring installation scheme with distutils config files is deprecated and will no longer work in the near future. If you are using a Homebrew or Linuxbrew Python, please see discussion at https://github.com/Homebrew/homebrew-core/issues/76621\u001b[0m\u001b[33m\n",
      "\u001b[0m\n",
      "\u001b[1m[\u001b[0m\u001b[34;49mnotice\u001b[0m\u001b[1;39;49m]\u001b[0m\u001b[39;49m A new release of pip available: \u001b[0m\u001b[31;49m22.2.2\u001b[0m\u001b[39;49m -> \u001b[0m\u001b[32;49m24.0\u001b[0m\n",
      "\u001b[1m[\u001b[0m\u001b[34;49mnotice\u001b[0m\u001b[1;39;49m]\u001b[0m\u001b[39;49m To update, run: \u001b[0m\u001b[32;49mpython3.9 -m pip install --upgrade pip\u001b[0m\n",
      "Note: you may need to restart the kernel to use updated packages.\n"
     ]
    }
   ],
   "source": [
    "pip install backtesting"
   ]
  },
  {
   "cell_type": "code",
   "execution_count": null,
   "id": "02b96376",
   "metadata": {},
   "outputs": [],
   "source": []
  }
 ],
 "metadata": {
  "kernelspec": {
   "display_name": "Python 3 (ipykernel)",
   "language": "python",
   "name": "python3"
  },
  "language_info": {
   "codemirror_mode": {
    "name": "ipython",
    "version": 3
   },
   "file_extension": ".py",
   "mimetype": "text/x-python",
   "name": "python",
   "nbconvert_exporter": "python",
   "pygments_lexer": "ipython3",
   "version": "3.9.15"
  }
 },
 "nbformat": 4,
 "nbformat_minor": 5
}
